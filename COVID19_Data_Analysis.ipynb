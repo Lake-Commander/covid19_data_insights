{
 "cells": [
  {
   "cell_type": "code",
   "execution_count": null,
   "id": "646099c3",
   "metadata": {},
   "outputs": [],
   "source": [
    "# Cell 1 - Markdown\n",
    "# COVID-19 Data Analysis: Trends, Vaccination Impact, and Visual Insights\n",
    "**Date:** 2025-06-04\n",
    "\n",
    "This notebook explores the COVID-19 pandemic using a dataset containing daily new cases, deaths, and vaccination data for various countries.\n"
   ]
  },
  {
   "cell_type": "code",
   "execution_count": null,
   "id": "f8d51ec2",
   "metadata": {},
   "outputs": [],
   "source": [
    "# Cell 2 - Imports\n",
    "import pandas as pd\n",
    "import matplotlib.pyplot as plt\n",
    "import seaborn as sns\n",
    "\n",
    "# Set plotting aesthetics\n",
    "sns.set(style='whitegrid')\n"
   ]
  },
  {
   "cell_type": "code",
   "execution_count": null,
   "id": "d36c91b3",
   "metadata": {},
   "outputs": [],
   "source": [
    "# Cell 3 - Load and clean data\n",
    "df = pd.read_csv(\"Dataset.csv\")\n",
    "df.columns = df.columns.str.strip()\n",
    "df['DATE'] = pd.to_datetime(df['DATE'], errors='coerce')\n",
    "df['vaccinated'] = pd.to_numeric(df['vaccinated'].replace('unknown', pd.NA), errors='coerce')\n",
    "df.dropna(subset=['NEW Cases', 'NEW_DEATHS'], inplace=True)\n",
    "df['CUM_CASES'] = df.groupby('country')['NEW Cases'].cumsum()\n",
    "df['CUM_DEATHS'] = df.groupby('country')['NEW_DEATHS'].cumsum()\n",
    "df.head()\n"
   ]
  },
  {
   "cell_type": "code",
   "execution_count": null,
   "id": "380ea9df",
   "metadata": {},
   "outputs": [],
   "source": [
    "# Cell 4 - Line plot: New Cases over time\n",
    "plt.figure(figsize=(14,6))\n",
    "top_countries = df.groupby('country')['NEW Cases'].sum().sort_values(ascending=False).head(5).index\n",
    "for country in top_countries:\n",
    "    sns.lineplot(data=df[df['country'] == country], x='DATE', y='NEW Cases', label=country)\n",
    "plt.title(\"New COVID-19 Cases Over Time\")\n",
    "plt.xlabel(\"Date\")\n",
    "plt.ylabel(\"New Cases\")\n",
    "plt.legend()\n",
    "plt.tight_layout()\n",
    "plt.show()\n"
   ]
  },
  {
   "cell_type": "code",
   "execution_count": null,
   "id": "4ef79d19",
   "metadata": {},
   "outputs": [],
   "source": [
    "# Cell 5 - Line plot: Vaccinations over time\n",
    "plt.figure(figsize=(14,6))\n",
    "for country in top_countries:\n",
    "    sns.lineplot(data=df[df['country'] == country], x='DATE', y='vaccinated', label=country)\n",
    "plt.title(\"Vaccinations Over Time\")\n",
    "plt.xlabel(\"Date\")\n",
    "plt.ylabel(\"People Vaccinated\")\n",
    "plt.legend()\n",
    "plt.tight_layout()\n",
    "plt.show()\n"
   ]
  },
  {
   "cell_type": "code",
   "execution_count": null,
   "id": "07cea0ae",
   "metadata": {},
   "outputs": [],
   "source": [
    "# Cell 6 - Bar plot: Total Cases, Deaths, Vaccinations\n",
    "agg_df = df.groupby('country').agg({\n",
    "    'NEW Cases': 'sum',\n",
    "    'NEW_DEATHS': 'sum',\n",
    "    'vaccinated': 'max'\n",
    "}).sort_values(by='NEW Cases', ascending=False).head(10)\n",
    "\n",
    "agg_df.plot(kind='bar', figsize=(14,6), subplots=True, layout=(1, 3), sharex=True, legend=False)\n",
    "plt.suptitle(\"Top 10 Countries by Cases, Deaths, and Vaccination\")\n",
    "plt.tight_layout()\n",
    "plt.show()\n"
   ]
  },
  {
   "cell_type": "code",
   "execution_count": null,
   "id": "a417c31b",
   "metadata": {},
   "outputs": [],
   "source": [
    "# Cell 7 - Scatter plot: Vaccinations vs Cases\n",
    "plt.figure(figsize=(10,6))\n",
    "sns.scatterplot(data=agg_df, x='vaccinated', y='NEW Cases', hue=agg_df.index, s=150)\n",
    "plt.title(\"Vaccinated vs Total COVID-19 Cases\")\n",
    "plt.xlabel(\"People Vaccinated\")\n",
    "plt.ylabel(\"Total COVID-19 Cases\")\n",
    "plt.tight_layout()\n",
    "plt.show()\n"
   ]
  },
  {
   "cell_type": "code",
   "execution_count": null,
   "id": "6bd31920",
   "metadata": {},
   "outputs": [],
   "source": [
    "# Cell 8 - Summary & Insights\n",
    "- Countries with higher vaccination rates often exhibit plateauing or declining new case trends.\n",
    "- Death trends usually follow case trends with a lag.\n",
    "- Visualization reveals disparities in both case loads and vaccination access across countries.\n"
   ]
  }
 ],
 "metadata": {
  "kernelspec": {
   "display_name": "venv",
   "language": "python",
   "name": "python3"
  },
  "language_info": {
   "name": "python",
   "version": "3.12.10"
  }
 },
 "nbformat": 4,
 "nbformat_minor": 5
}
